{
  "cells": [
    {
      "cell_type": "markdown",
      "source": [
        "## **Linear Regression**\n"
      ],
      "metadata": {
        "id": "MrqgOgaKkwl6"
      }
    },
    {
      "cell_type": "markdown",
      "source": [
        "![1_quSxcHc0ib4nbtj7TFH6gw.webp](data:image/webp;base64,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)"
      ],
      "metadata": {
        "id": "fo_p0IvoGPRe"
      }
    },
    {
      "cell_type": "markdown",
      "source": [
        "Given a data set $\\left\\{y_i, x_{i 1}, \\ldots, x_{i p}\\right\\}_{i=1}^n$ of $n$ statistical units, a linear regression model assumes that the relationship between the dependent variable $y$ and the vector of regressors $\\mathbf{x}$ is linear. This relationship is modeled through a disturbance term or error variable $\\varepsilon$ - an unobserved random variable that adds \"noise\" to the linear relationship between the dependent variable and regressors. Thus the model takes the form\n",
        "$$\n",
        "y_i=\\theta_0+\\theta_1 x_{i 1}+\\cdots+\\theta_p x_{i p}+\\varepsilon_i=\\mathbf{x}_i^{\\top} \\boldsymbol{\\theta}\\ +{\\theta_0} +\\varepsilon_i, \\quad i=\\mathbf{1}, \\ldots, n,\n",
        "$$\n",
        "where ${ }^{\\top}$ denotes the transpose, so that $\\mathbf{x}_i^{\\top} \\boldsymbol{\\theta}$ is the inner product between vectors $\\mathbf{x}_i$ and $\\boldsymbol{\\theta}$.\n",
        "Often these $n$ equations are stacked together and written in matrix notation as\n",
        "$$\n",
        "\\mathbf{y}=\\mathbf{X}. \\boldsymbol{\\theta}+ {\\theta_0} + \\boldsymbol{\\varepsilon}\n",
        "$$\n",
        "where\n",
        "$$\n",
        "\\begin{aligned}\n",
        "& \\mathbf{y}=\\left[\\begin{array}{c}\n",
        "y_1 \\\\\n",
        "y_2 \\\\\n",
        "\\vdots \\\\\n",
        "y_n\n",
        "\\end{array}\\right], \\\\\n",
        "& \\mathbf{X}=\\left[\\begin{array}{c}\n",
        "\\mathbf{x}_1^{\\top} \\\\\n",
        "\\mathbf{x}_2^{\\top} \\\\\n",
        "\\vdots \\\\\n",
        "\\mathbf{x}_n^{\\top}\n",
        "\\end{array}\\right]=\\left[\\begin{array}{cccc}\n",
        "x_{11} & \\cdots & x_{1 p} \\\\\n",
        "x_{21} & \\cdots & x_{2 p} \\\\\n",
        "\\vdots & \\vdots & \\vdots \\\\\n",
        "x_{n \\mathbf{1}} & \\cdots & x_{n p}\n",
        "\\end{array}\\right], \\\\\n",
        "& \\boldsymbol{\\theta}=\\left[\\begin{array}{c}\n",
        "\\theta_1 \\\\\n",
        "\\theta_2 \\\\\n",
        "\\vdots \\\\\n",
        "\\theta_p\n",
        "\\end{array}\\right], \\quad \\varepsilon=\\left[\\begin{array}{ccc}\n",
        "\\varepsilon_1 \\\\\n",
        "\\varepsilon_2 \\\\\n",
        "\\vdots \\\\\n",
        "\\varepsilon_n\n",
        "\\end{array}\\right] .\n",
        "\\end{aligned}\n",
        "$$"
      ],
      "metadata": {
        "id": "57YlY5g62oly"
      }
    },
    {
      "cell_type": "markdown",
      "source": [
        "$$\\\n",
        "Cost\\ Function,\\ \\ J\\ =  \\ \\frac{1}{2m} \\sum_{i=1}^{m} (h_\\theta(x^{(i)}) – y^{(i)})^2$$"
      ],
      "metadata": {
        "id": "jncmTbqe5B02"
      }
    },
    {
      "cell_type": "markdown",
      "source": [
        "## **Steps Required in Gradient Descent Algorithm**\n",
        "- **Step 1:** we first initialize the parameters of the model randomly\n",
        "- **Step 2:** Compute the gradient of the cost function with respect to each parameter. It involves making partial differentiation of cost function with respect to the parameters.\n",
        "- **Step 3:** Update the parameters of the model by taking steps in the opposite direction of the model. Here we choose a hyperparameter learning rate which is denoted by alpha. It helps in deciding the step size of the gradient.\n",
        "- **Step 4:** Repeat steps 2 and 3 iteratively to get the best parameter for the defined model"
      ],
      "metadata": {
        "id": "Awok3lmYDxJw"
      }
    },
    {
      "cell_type": "markdown",
      "source": [
        "Gradient Descent\n",
        "$$\n",
        "\\theta_j=\\theta_j-\\alpha \\frac{\\partial}{\\partial \\theta_j} J\\left(\\theta_0, \\theta_1, \\theta_2..., \\theta_p\\right)\n",
        "$$\n",
        "\n",
        "$$where\\ \\alpha  \\ =  \\ Learning\\ Rate$$\\\n",
        "Now,\n",
        "$$\n",
        "\\begin{aligned}\n",
        "\\frac{\\partial}{\\partial \\theta} J_{\\theta} & =\\frac{\\partial}{\\partial \\theta} \\frac{1}{2 n} \\sum_{i=1}^n\\left[h_{\\theta}\\left(x^{(i)}\\right)-y\\right]^2 \\\\\n",
        "& =\\frac{1}{n} \\sum_{i=1}^n\\left(h_{\\theta}\\left(x^i\\right)-y\\right) \\frac{\\partial}{\\partial \\theta_j}\\left(\\theta^T. x^{(i)} + \\theta_0 -y\\right)\\\n",
        "\\end{aligned}\n",
        "$$\n",
        "\n",
        "\\begin{aligned}\n",
        "\\frac{\\partial}{\\partial \\theta_j} J_{\\theta} =\\frac{1}{n}\\sum_{i=1}^n\\left(h_{\\theta}\\left(x^{(i)}\\right)-y\\right) x^{(i)}_j, \\ \\ \\ \\ \\ \\ \\ \\ \\ \\ \\ \\theta_j = \\theta_1, \\ \\theta_2, \\theta_3,..., \\theta_p\n",
        "\\end{aligned}\n",
        "\n",
        "\\begin{aligned}\n",
        "\\frac{\\partial}{\\partial \\theta_0} J_{\\theta} =\\frac{1}{n}\\sum_{i=1}^n\\left(h_{\\theta}\\left(x^{(i)}\\right)-y\\right), \\ \\ \\ \\ \\ \\ \\ \\ \\ \\ \\ \\theta_j = \\theta_0\n",
        "\\end{aligned}\n",
        "\n",
        "#### **So, the finally update step becomes:**\n",
        "\\begin{aligned}\n",
        "\\theta_j=\\theta_j-\\alpha\\frac{1}{n}\\sum_{i=1}^n\\left(h_{\\theta}\\left(x^{(i)}\\right)-y\\right)x^{(i)}_j\n",
        "\\end{aligned}\n",
        "\n",
        "\\begin{aligned}\n",
        "\\theta_0=\\theta_0-\\alpha\\frac{1}{n}\\sum_{i=1}^n\\left(h_{\\theta}\\left(x^{(i)}\\right)-y\\right)\n",
        "\\end{aligned}\n",
        "\n"
      ],
      "metadata": {
        "id": "RhOgnm0CAAOZ"
      }
    },
    {
      "cell_type": "code",
      "source": [
        "class LinearRegression:\n",
        "\n",
        "  def __init__(self, fit_intercept = True):\n",
        "    self.fit_intercept = fit_intercept\n",
        "\n",
        "\n",
        "  def fit(self, X, y, epochs = 1000):\n",
        "    import numpy as np\n",
        "    import pandas as pd\n",
        "    n, d = X.shape\n",
        "    w = np.random.rand(d)\n",
        "    if self.fit_intercept:\n",
        "      w = np.append(w, 1)\n",
        "      ones = np.ones(shape = (n, 1))\n",
        "      X = np.hstack((X, ones))\n",
        "\n",
        "    for i in range(epochs):\n",
        "      y_pred = np.dot(X, w)\n",
        "      err = y_pred - y\n",
        "      gradient = 2 * np.dot(X.T, err)\n",
        "      w -=  0.001 * gradient\n",
        "\n",
        "    if self.fit_intercept:\n",
        "      self.coef_ = w[:-1]\n",
        "      self.intercept_ = w[-1]\n",
        "    else:\n",
        "      self.coef_ = w\n",
        "      self.intercept_ = 0\n",
        "\n",
        "\n",
        "  def predict(self, X):\n",
        "    import numpy as np\n",
        "    import pandas as pd\n",
        "    if 'coef_' not in dir(self):\n",
        "      raise Exception('The model has been fit on the data yet')\n",
        "    return np.dot(X, self.coef_) + self.intercept_\n",
        "\n",
        "  def fit_predict(self, X):\n",
        "    import numpy as np\n",
        "    import pandas as pd\n",
        "    self.fit(X)\n",
        "    return self.predict(X)\n",
        "\n",
        "  def score(self, X, y):\n",
        "    import numpy as np\n",
        "    import pandas as pd\n",
        "    if 'coef_' not in dir(self):\n",
        "      raise Exception('The model has been fit on the data yet')\n",
        "\n",
        "    y_pred = self.predict(X)\n",
        "    rss = np.sum((y_pred - y) ** 2)\n",
        "    tss = np.sum((y_pred - y_pred.mean()) ** 2)\n",
        "    r2_score = 1 - rss/tss\n",
        "    return r2_score"
      ],
      "metadata": {
        "id": "hOwV_runFEJL"
      },
      "execution_count": null,
      "outputs": []
    }
  ],
  "metadata": {
    "colab": {
      "collapsed_sections": [
        "BWg0CDLG2QGt"
      ],
      "provenance": []
    },
    "kernelspec": {
      "display_name": "Python 3 (ipykernel)",
      "language": "python",
      "name": "python3"
    },
    "language_info": {
      "codemirror_mode": {
        "name": "ipython",
        "version": 3
      },
      "file_extension": ".py",
      "mimetype": "text/x-python",
      "name": "python",
      "nbconvert_exporter": "python",
      "pygments_lexer": "ipython3",
      "version": "3.9.13"
    }
  },
  "nbformat": 4,
  "nbformat_minor": 0
}